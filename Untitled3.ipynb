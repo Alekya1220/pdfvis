{
 "cells": [
  {
   "cell_type": "code",
   "execution_count": 1,
   "id": "ec8b08f8-fc1a-4c1a-854f-2657fee4f8e1",
   "metadata": {},
   "outputs": [
    {
     "name": "stdout",
     "output_type": "stream",
     "text": [
      "Writing wcc.py\n"
     ]
    }
   ],
   "source": [
    "%%writefile wcc.py\n",
    "import streamlit as st\n",
    "import pdfplumber\n",
    "import matplotlib.pyplot as plt\n",
    "from docx import Document\n",
    "import io\n",
    "from wordcloud import WordCloud\n",
    "\n",
    "\n",
    "\n",
    "def extract_text_from_word(iobytes):\n",
    "    doc = Document(io.BytesIO(iobytes))\n",
    "    paras=[]\n",
    "    for para in doc.paragraphs:\n",
    "        paras.append(para.text)\n",
    "    return ' '.join(paras)\n",
    "\n",
    "def extract_text_from_pdf(iobytes):\n",
    "    doc = pdfplumber.open(io.BytesIO(iobytes))\n",
    "    pages=[]\n",
    "    for page in doc.pages:\n",
    "        pages.append(page.extract_text())\n",
    "    return ' '.join(pages)\n",
    "\n",
    "\n",
    "def wordcloud(uploaded):  \n",
    "    iobytes = uploaded.read()\n",
    "    if uploaded.name.lower().endswith('pdf'):\n",
    "        text = extract_text_from_pdf(iobytes)\n",
    "        image=WordCloud().generate(text)\n",
    "        fig,ax=plt.subplots(figsize=(10,7))\n",
    "        ax.imshow(image)\n",
    "        ax.axis('off')\n",
    "        st.pyplot(fig)\n",
    "    else:\n",
    "        text = extract_text_from_word(iobytes)\n",
    "        image=WordCloud().generate(text)\n",
    "        fig,ax=plt.subplots(figsize=(10,7))\n",
    "        ax.imshow(image)\n",
    "        ax.axis('off')\n",
    "        st.pyplot(fig)\n",
    "\n",
    "\n",
    "         \n",
    "        \n",
    "    \n",
    "\n",
    "\n",
    "\n",
    "\n",
    "st.set_page_config(layout='centered')\n",
    "st.title('Word Cloud from PDF or Word')\n",
    "uploaded = st.file_uploader('Upload any PDF or WORD')\n",
    "if uploaded:\n",
    "    wordcloud(uploaded)\n",
    "\n",
    "\n",
    "\n",
    "\n"
   ]
  },
  {
   "cell_type": "code",
   "execution_count": 2,
   "id": "4e5205cd-0693-424d-95e3-aa0908a6c18e",
   "metadata": {},
   "outputs": [
    {
     "name": "stdout",
     "output_type": "stream",
     "text": [
      "^C\n"
     ]
    }
   ],
   "source": []
  },
  {
   "cell_type": "code",
   "execution_count": null,
   "id": "83e8bce5-ea54-4e0f-8ade-723880486e9d",
   "metadata": {},
   "outputs": [],
   "source": []
  }
 ],
 "metadata": {
  "kernelspec": {
   "display_name": "Python [conda env:base] *",
   "language": "python",
   "name": "conda-base-py"
  },
  "language_info": {
   "codemirror_mode": {
    "name": "ipython",
    "version": 3
   },
   "file_extension": ".py",
   "mimetype": "text/x-python",
   "name": "python",
   "nbconvert_exporter": "python",
   "pygments_lexer": "ipython3",
   "version": "3.13.5"
  }
 },
 "nbformat": 4,
 "nbformat_minor": 5
}
